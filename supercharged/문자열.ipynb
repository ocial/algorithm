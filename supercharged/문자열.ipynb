{
 "cells": [
  {
   "cell_type": "code",
   "execution_count": 9,
   "metadata": {},
   "outputs": [
    {
     "name": "stdout",
     "output_type": "stream",
     "text": [
      "17\n",
      "17\n",
      "17\n"
     ]
    }
   ],
   "source": [
    "# 진법변환 (n진수 > 10진수)\n",
    "print(int('10001', 2))\n",
    "print(int('21', 8))\n",
    "print(int('11', 16))"
   ]
  },
  {
   "cell_type": "code",
   "execution_count": 7,
   "metadata": {},
   "outputs": [
    {
     "name": "stdout",
     "output_type": "stream",
     "text": [
      "0b10001\n",
      "0o21\n",
      "0x11\n"
     ]
    }
   ],
   "source": [
    "# 진법변환 (10진수 > n진수)\n",
    "print(bin(17))\n",
    "print(oct(17))\n",
    "print(hex(17))"
   ]
  },
  {
   "cell_type": "code",
   "execution_count": 10,
   "metadata": {},
   "outputs": [
    {
     "data": {
      "text/plain": [
       "65"
      ]
     },
     "execution_count": 10,
     "metadata": {},
     "output_type": "execute_result"
    }
   ],
   "source": [
    "# 숫자 코드 반환\n",
    "ord('A')"
   ]
  },
  {
   "cell_type": "code",
   "execution_count": 11,
   "metadata": {},
   "outputs": [
    {
     "data": {
      "text/plain": [
       "'A'"
      ]
     },
     "execution_count": 11,
     "metadata": {},
     "output_type": "execute_result"
    }
   ],
   "source": [
    "# 아스키코드(or 유니코드)를 문자로 반환\n",
    "chr(65)"
   ]
  },
  {
   "cell_type": "code",
   "execution_count": 26,
   "metadata": {},
   "outputs": [
    {
     "name": "stdout",
     "output_type": "stream",
     "text": [
      "ELPPA\n",
      "AELPP\n"
     ]
    }
   ],
   "source": [
    "# 주요 함수\n",
    "print(''.join(reversed('APPLE')))\n",
    "print(''.join(sorted('APPLE')))"
   ]
  },
  {
   "cell_type": "code",
   "execution_count": 24,
   "metadata": {},
   "outputs": [
    {
     "name": "stdout",
     "output_type": "stream",
     "text": [
      "True\n",
      "True\n",
      "True\n",
      "False\n"
     ]
    }
   ],
   "source": [
    "# 문자열 불리언\n",
    "print('abcd1234'.isalnum())  # 모든 문자가 글자와 숫자로 이루어져있는지 확인\n",
    "print('abcd'.isalpha())  # 모든 문자가 알파벳 글자로 이루어져있는지 확인\n",
    "print('1234'.isdigit())  # 모든 숫자가 숫자로 이루어져있는지 확인\n",
    "print('abd \\n'.isprintable())  # 모든 문자가 출력 가능한 문자인지 확인 \\n, \\t 등 포함 확인"
   ]
  },
  {
   "cell_type": "code",
   "execution_count": 25,
   "metadata": {},
   "outputs": [
    {
     "name": "stdout",
     "output_type": "stream",
     "text": [
      "abcd\n",
      "ABCD\n",
      "Abcd\n",
      "aBCD\n"
     ]
    }
   ],
   "source": [
    "# 대소문자 변환\n",
    "print('ABCD'.lower())\n",
    "print('abcd'.upper())\n",
    "print('abcd'.title())\n",
    "print('Abcd'.swapcase())"
   ]
  },
  {
   "cell_type": "code",
   "execution_count": 32,
   "metadata": {},
   "outputs": [
    {
     "name": "stdout",
     "output_type": "stream",
     "text": [
      "True\n",
      "True\n"
     ]
    }
   ],
   "source": [
    "print('Apple'.startswith('Ap'))\n",
    "print('Apple'.endswith('e'))"
   ]
  },
  {
   "cell_type": "code",
   "execution_count": 43,
   "metadata": {},
   "outputs": [
    {
     "name": "stdout",
     "output_type": "stream",
     "text": [
      "2\n",
      "1\n",
      "1\n",
      "2\n",
      "Allle\n",
      "Alple\n"
     ]
    }
   ],
   "source": [
    "print('Apple'.count('p'))  # 갯수 count\n",
    "print('Apple'.find('p'))  # 위치 찾기, 못찾으면 -1 반환\n",
    "print('Apple'.index('p'))  # 위치 찾기, 못찾으면 예외 발생\n",
    "print('Apple'.rfind('p'))  # 위치 찾기, 오른쪽 부터\n",
    "print('Apple'.replace('p', 'l'))\n",
    "print('Apple'.replace('p', 'l', 1))  # 교체 횟수 제한"
   ]
  },
  {
   "cell_type": "code",
   "execution_count": 52,
   "metadata": {},
   "outputs": [
    {
     "name": "stdout",
     "output_type": "stream",
     "text": [
      "apple     \n",
      "  apple   \n",
      "     apple\n",
      "00000apple\n",
      "\n",
      "apple#####\n",
      "##apple###\n",
      "#####apple\n",
      "00000apple\n"
     ]
    }
   ],
   "source": [
    "# 자리 맞춤\n",
    "print('apple'.ljust(10))\n",
    "print('apple'.center(10))\n",
    "print('apple'.rjust(10))\n",
    "print('apple'.zfill(10))\n",
    "print()\n",
    "print('apple'.ljust(10, '#'))\n",
    "print('apple'.center(10, '#'))\n",
    "print('apple'.rjust(10, '#'))\n",
    "print('apple'.zfill(10))"
   ]
  },
  {
   "cell_type": "code",
   "execution_count": null,
   "metadata": {},
   "outputs": [],
   "source": []
  }
 ],
 "metadata": {
  "interpreter": {
   "hash": "05c5b86a60055e25725f39ad5a6e71697012de5a4a0bede417285593b2972ad6"
  },
  "kernelspec": {
   "display_name": "Python 3.7.9 64-bit ('pyocial': conda)",
   "name": "python3"
  },
  "language_info": {
   "codemirror_mode": {
    "name": "ipython",
    "version": 3
   },
   "file_extension": ".py",
   "mimetype": "text/x-python",
   "name": "python",
   "nbconvert_exporter": "python",
   "pygments_lexer": "ipython3",
   "version": "3.7.9"
  },
  "orig_nbformat": 4
 },
 "nbformat": 4,
 "nbformat_minor": 2
}
